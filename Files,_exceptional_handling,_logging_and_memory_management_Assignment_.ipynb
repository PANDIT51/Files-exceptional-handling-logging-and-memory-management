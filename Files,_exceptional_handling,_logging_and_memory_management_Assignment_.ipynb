{
  "nbformat": 4,
  "nbformat_minor": 0,
  "metadata": {
    "colab": {
      "provenance": []
    },
    "kernelspec": {
      "name": "python3",
      "display_name": "Python 3"
    },
    "language_info": {
      "name": "python"
    }
  },
  "cells": [
    {
      "cell_type": "markdown",
      "source": [
        "***THEORY QUESTIONES ***\n",
        "\n",
        "1. What is the difference between interpreted and compiled languages?\n",
        " > Interpreted languages: Code is executed line by line by an interpreter. Examples include Python and JavaScript. No separate compilation step is needed, but execution may be slower.\n",
        "Compiled languages: Code is converted into machine code by a compiler before execution. Examples include C and C++. This results in faster execution but requires a compilation step.\n",
        "\n",
        "2. What is exception handling in Python?\n",
        " > Exception handling is a mechanism in Python to handle runtime errors gracefully without crashing the program. It uses keywords like try, except, else, and finally to catch and manage exceptions.\n",
        "\n",
        "3. What is the purpose of the finally block in exception handling?\n",
        " > The finally block is used to define code that should execute regardless of whether an exception occurred or not. It is commonly used for cleanup actions, like closing files or releasing resources.\n",
        "\n",
        "4. What is logging in Python?\n",
        " > Logging is a way to track events that happen during the execution of a program. Python's logging module provides a flexible framework for creating logs, which can help debug, monitor, or audit applications.\n",
        "\n",
        "5. What is the significance of the __del__ method in Python?\n",
        " > The __del__ method is a special method called a destructor. It is invoked when an object is about to be destroyed, allowing you to release resources or perform cleanup actions.\n",
        "\n",
        "6. What is the difference between import and from ... import in Python?\n",
        " > import: Imports the entire module. You access module members using the dot operator (e.g., module_name.function_name).\n",
        "from ... import: Imports specific members of a module directly, allowing you to use them without the module name (e.g., from math import sqrt).\n",
        "\n",
        "7. How can you handle multiple exceptions in Python?\n",
        " > Multiple exceptions can be handled using:\n",
        "A single except block with a tuple of exception types:\n",
        "\n"
      ],
      "metadata": {
        "id": "9-n6CNrFWINY"
      }
    },
    {
      "cell_type": "code",
      "source": [
        "try:\n",
        "    # Code\n",
        "except (TypeError, ValueError):\n",
        "    # Handle both exceptions\n"
      ],
      "metadata": {
        "id": "E835SRS2XH8R"
      },
      "execution_count": null,
      "outputs": []
    },
    {
      "cell_type": "markdown",
      "source": [
        " Multiple except blocks for different exceptions.\n",
        "\n",
        "8. What is the purpose of the with statement when handling files in Python?\n",
        " > The with statement is used to handle files efficiently. It automatically manages resources by opening and closing files properly, even if an exception occurs. For example:\n"
      ],
      "metadata": {
        "id": "KrTpJFgbXNRz"
      }
    },
    {
      "cell_type": "code",
      "source": [
        "with open(\"file.txt\", \"r\") as file:\n",
        "    content = file.read()\n"
      ],
      "metadata": {
        "id": "STXCRtTaXhk_"
      },
      "execution_count": null,
      "outputs": []
    },
    {
      "cell_type": "markdown",
      "source": [
        "9. What is the difference between multithreading and multiprocessing?\n",
        " > Multithreading: Multiple threads run within the same process, sharing memory space. Best for I/O-bound tasks.\n",
        "\n",
        " > Multiprocessing: Multiple processes run independently, each with its own memory space. Best for CPU-bound tasks.\n",
        "\n",
        "10. What are the advantages of using logging in a program?\n",
        " > Provides detailed information about program execution.\n",
        "\n",
        " > Helps debug and identify issues.\n",
        "\n",
        " > Tracks errors, warnings, and important events.\n",
        "\n",
        " > Improves maintainability and auditability.\n",
        "\n",
        "11. What is memory management in Python?\n",
        " > Memory management in Python involves allocating and deallocating memory for objects. Python has an automatic memory management system that uses:\n",
        "\n",
        " > i) Reference counting: Tracks the number of references to an object.\n",
        "\n",
        " > ii) Garbage collection: Reclaims memory occupied by objects no longer in use.\n",
        "12. What are the basic steps involved in exception handling in Python?\n",
        " > Wrap risky code in a try block.\n",
        "\n",
        " > Use one or more except blocks to handle specific exceptions.\n",
        "\n",
        " > Optionally, use an else block to execute code if no exceptions occur.\n",
        "\n",
        " > Use a finally block for cleanup actions, regardless of the outcome.\n",
        "\n",
        "13. Why is memory management important in Python?\n",
        " > Memory management ensures efficient use of memory, prevents memory leaks, and avoids crashes due to excessive memory consumption.\n",
        "\n",
        "14. What is the role of try and except in exception handling?\n",
        " > The try block contains code that may raise an exception.\n",
        "\n",
        " > The except block contains code to handle the exception if it occurs.\n",
        "\n",
        "15. How does Python's garbage collection system work?\n",
        " > Python uses reference counting and a cyclic garbage collector to manage memory:\n",
        "\n",
        " > Objects with a reference count of zero are deleted.\n",
        "\n",
        " > The garbage collector identifies and removes objects involved in reference cycles.\n",
        "\n",
        "16. What is the purpose of the else block in exception handling?\n",
        " > The else block executes if no exceptions occur in the try block. It is useful for code that should run only when no errors are encountered.\n",
        "\n",
        "17. What are the common logging levels in Python?\n",
        " > Python's logging module defines the following levels (in increasing order of severity):\n",
        " > DEBUG: Detailed information for diagnosing problems.\n",
        "\n",
        " > INFO: General information about program execution.\n",
        "\n",
        " > WARNING: Indications of potential problems.\n",
        "\n",
        " > ERROR: Errors that prevent part of the program from functioning.\n",
        "\n",
        " > CRITICAL: Severe errors that may cause the program to terminate.\n",
        "\n",
        "18. What is the difference between os.fork() and multiprocessing in Python?\n",
        " > os.fork(): Creates a child process by directly duplicating the current process (Unix systems only).\n",
        "\n",
        " > multiprocessing module: Provides a cross-platform API for creating independent processes, allowing more flexibility and compatibility.\n",
        "\n",
        "19. What is the importance of closing a file in Python?\n",
        " > Closing a file releases system resources and ensures data integrity by flushing any unwritten data to the file.\n",
        "\n",
        "20. What is the difference between file.read() and file.readline() in Python?\n",
        " > file.read(): Reads the entire file or a specified number of bytes at once.\n",
        "\n",
        " > file.readline(): Reads one line from the file at a time.\n",
        "\n",
        "21. What is the logging module in Python used for?\n",
        " > The logging module is used to:\n",
        "\n",
        " > Record program events.\n",
        "\n",
        " > Debug and monitor applications.\n",
        "\n",
        " > Save logs to files for future reference.\n",
        "22. What is the os module in Python used for in file handling?\n",
        " > The os module provides functions for interacting with the operating system, such as:\n",
        " > Creating, deleting, and renaming files/directories.\n",
        "\n",
        " > Checking file existence and properties.\n",
        "\n",
        " > Working with paths.\n",
        "\n",
        "23. What are the challenges associated with memory management in Python?\n",
        " > Circular references may delay memory deallocation.\n",
        " > Large memory usage by objects may slow down garbage collection.\n",
        " > Managing memory leaks caused by improper use of third-party libraries.\n",
        "\n",
        "24. How do you raise an exception manually in Python?\n",
        " > Use the raise statement with an exception type or object:"
      ],
      "metadata": {
        "id": "gIJ3lhHuXklZ"
      }
    },
    {
      "cell_type": "code",
      "source": [
        "raise ValueError(\"This is a custom error message.\")\n"
      ],
      "metadata": {
        "id": "b9bJC16HbEbD"
      },
      "execution_count": null,
      "outputs": []
    },
    {
      "cell_type": "markdown",
      "source": [
        "25. Why is it important to use multithreading in certain applications?\n",
        " > Multithreading improves performance for I/O-bound tasks, such as:\n",
        "\n",
        " > Reading/writing files.\n",
        "\n",
        " > Fetching data from APIs.\n",
        "\n",
        " > Managing user interactions in GUI applications.\n",
        "\n",
        "  \n",
        "  > ***PRACTICAL QUESTIONS ***\n",
        "\n",
        "  1. How can you open a file for writing in Python and write a string to it?\n",
        "\n"
      ],
      "metadata": {
        "id": "krkdJaUIbIwJ"
      }
    },
    {
      "cell_type": "code",
      "source": [
        "# Open the file in write mode\n",
        "with open(\"example.txt\", \"w\") as file:\n",
        "    file.write(\"This is a test string.\")\n"
      ],
      "metadata": {
        "id": "v3AXglNfckFI"
      },
      "execution_count": null,
      "outputs": []
    },
    {
      "cell_type": "markdown",
      "source": [
        "2. Write a Python program to read the contents of a file and print each line.\n"
      ],
      "metadata": {
        "id": "0INfXKfzcpBB"
      }
    },
    {
      "cell_type": "code",
      "source": [
        "# Open the file in read mode\n",
        "with open(\"example.txt\", \"r\") as file:\n",
        "    for line in file:\n",
        "        print(line.strip())  # Print each line without extra newlines\n"
      ],
      "metadata": {
        "id": "tLPDrMBscvbU"
      },
      "execution_count": null,
      "outputs": []
    },
    {
      "cell_type": "markdown",
      "source": [
        "3. How would you handle a case where the file doesn’t exist while trying to open it for reading?\n"
      ],
      "metadata": {
        "id": "i6e4vJs5c4sW"
      }
    },
    {
      "cell_type": "code",
      "source": [
        "try:\n",
        "    with open(\"non_existent_file.txt\", \"r\") as file:\n",
        "        content = file.read()\n",
        "except FileNotFoundError:\n",
        "    print(\"Error: The file does not exist.\")\n"
      ],
      "metadata": {
        "id": "-O4R4ULDc_ua"
      },
      "execution_count": null,
      "outputs": []
    },
    {
      "cell_type": "markdown",
      "source": [
        "4. Write a Python script that reads from one file and writes its content to another file."
      ],
      "metadata": {
        "id": "xYc5_C-1dEIQ"
      }
    },
    {
      "cell_type": "code",
      "source": [
        "# Read from one file and write to another\n",
        "with open(\"source.txt\", \"r\") as source, open(\"destination.txt\", \"w\") as destination:\n",
        "    for line in source:\n",
        "        destination.write(line)\n"
      ],
      "metadata": {
        "id": "z0eQCcuYdI_F"
      },
      "execution_count": null,
      "outputs": []
    },
    {
      "cell_type": "markdown",
      "source": [
        "5. How would you catch and handle division by zero error in Python?\n"
      ],
      "metadata": {
        "id": "ckgYFgyXdLc8"
      }
    },
    {
      "cell_type": "code",
      "source": [
        "try:\n",
        "    result = 10 / 0\n",
        "except ZeroDivisionError:\n",
        "    print(\"Error: Division by zero is not allowed.\")\n"
      ],
      "metadata": {
        "colab": {
          "base_uri": "https://localhost:8080/"
        },
        "id": "Y56cjwMOdS8s",
        "outputId": "94c3769b-fb9c-413a-c6cb-6f745960ef5f"
      },
      "execution_count": 1,
      "outputs": [
        {
          "output_type": "stream",
          "name": "stdout",
          "text": [
            "Error: Division by zero is not allowed.\n"
          ]
        }
      ]
    },
    {
      "cell_type": "markdown",
      "source": [
        "6. Write a Python program that logs an error message to a log file when a division by zero exception occurs."
      ],
      "metadata": {
        "id": "uOxQ_yeMdhbb"
      }
    },
    {
      "cell_type": "code",
      "source": [
        "import logging\n",
        "\n",
        "logging.basicConfig(filename=\"error.log\", level=logging.ERROR)\n",
        "\n",
        "try:\n",
        "    result = 10 / 0\n",
        "except ZeroDivisionError:\n",
        "    logging.error(\"Attempted to divide by zero.\")\n"
      ],
      "metadata": {
        "id": "BeUA_4zDdjdI"
      },
      "execution_count": null,
      "outputs": []
    },
    {
      "cell_type": "markdown",
      "source": [
        "7. How do you log information at different levels (INFO, ERROR, WARNING) in Python using the logging module?"
      ],
      "metadata": {
        "id": "vm8ieqGRdnNY"
      }
    },
    {
      "cell_type": "code",
      "source": [
        "import logging\n",
        "\n",
        "logging.basicConfig(level=logging.DEBUG)\n",
        "\n",
        "logging.debug(\"This is a DEBUG message.\")\n",
        "logging.info(\"This is an INFO message.\")\n",
        "logging.warning(\"This is a WARNING message.\")\n",
        "logging.error(\"This is an ERROR message.\")\n",
        "logging.critical(\"This is a CRITICAL message.\")\n"
      ],
      "metadata": {
        "id": "HSGwQExDdrwS"
      },
      "execution_count": null,
      "outputs": []
    },
    {
      "cell_type": "markdown",
      "source": [
        "8. Write a program to handle a file opening error using exception handling.\n"
      ],
      "metadata": {
        "id": "xE3V3TL-duRd"
      }
    },
    {
      "cell_type": "code",
      "source": [
        "try:\n",
        "    with open(\"non_existent_file.txt\", \"r\") as file:\n",
        "        content = file.read()\n",
        "except FileNotFoundError as e:\n",
        "    print(f\"Error: {e}\")\n"
      ],
      "metadata": {
        "id": "ttNuFm6Qdz2o"
      },
      "execution_count": null,
      "outputs": []
    },
    {
      "cell_type": "markdown",
      "source": [
        "9. How can you read a file line by line and store its content in a list in Python?"
      ],
      "metadata": {
        "id": "0o-gIt-yd3a8"
      }
    },
    {
      "cell_type": "code",
      "source": [
        "lines = []\n",
        "with open(\"example.txt\", \"r\") as file:\n",
        "    lines = file.readlines()\n",
        "print(lines)\n"
      ],
      "metadata": {
        "id": "pDZna2CJd8HU"
      },
      "execution_count": null,
      "outputs": []
    },
    {
      "cell_type": "markdown",
      "source": [
        "10. How can you append data to an existing file in Python?\n"
      ],
      "metadata": {
        "id": "S3wGwQhjd_O_"
      }
    },
    {
      "cell_type": "code",
      "source": [
        "with open(\"example.txt\", \"a\") as file:\n",
        "    file.write(\"\\nAppending this new line.\")\n"
      ],
      "metadata": {
        "id": "xu81FGoveCrG"
      },
      "execution_count": null,
      "outputs": []
    },
    {
      "cell_type": "markdown",
      "source": [
        "11. Write a Python program that uses a try-except block to handle an error when attempting to access a dictionary key that doesn’t exist."
      ],
      "metadata": {
        "id": "7FueqZAMeGGN"
      }
    },
    {
      "cell_type": "code",
      "source": [
        "data = {\"key1\": \"value1\"}\n",
        "\n",
        "try:\n",
        "    value = data[\"non_existent_key\"]\n",
        "except KeyError:\n",
        "    print(\"Error: Key not found in the dictionary.\")\n"
      ],
      "metadata": {
        "colab": {
          "base_uri": "https://localhost:8080/"
        },
        "id": "JPLudFireKm7",
        "outputId": "0359f3f6-a922-44e6-f55c-8a9cee060c7d"
      },
      "execution_count": 4,
      "outputs": [
        {
          "output_type": "stream",
          "name": "stdout",
          "text": [
            "Error: Key not found in the dictionary.\n"
          ]
        }
      ]
    },
    {
      "cell_type": "markdown",
      "source": [
        "12. Write a program that demonstrates using multiple except blocks to handle different types of exceptions."
      ],
      "metadata": {
        "id": "_p0AExkneN88"
      }
    },
    {
      "cell_type": "code",
      "source": [
        "try:\n",
        "    # Trigger an exception\n",
        "    result = 10 / 0\n",
        "    value = [1, 2, 3][5]\n",
        "except ZeroDivisionError:\n",
        "    print(\"Caught a division by zero error.\")\n",
        "except IndexError:\n",
        "    print(\"Caught an index error.\")\n"
      ],
      "metadata": {
        "colab": {
          "base_uri": "https://localhost:8080/"
        },
        "id": "sudK3nGpeef8",
        "outputId": "11c24c11-9c7f-49c6-b98b-2cd8b6a05578"
      },
      "execution_count": 3,
      "outputs": [
        {
          "output_type": "stream",
          "name": "stdout",
          "text": [
            "Caught a division by zero error.\n"
          ]
        }
      ]
    },
    {
      "cell_type": "markdown",
      "source": [
        "13. How would you check if a file exists before attempting to read it in Python?"
      ],
      "metadata": {
        "id": "8aKp9fk4eg9i"
      }
    },
    {
      "cell_type": "code",
      "source": [
        "import os\n",
        "\n",
        "file_path = \"example.txt\"\n",
        "\n",
        "if os.path.exists(file_path):\n",
        "    with open(file_path, \"r\") as file:\n",
        "        print(file.read())\n",
        "else:\n",
        "    print(\"The file does not exist.\")\n"
      ],
      "metadata": {
        "colab": {
          "base_uri": "https://localhost:8080/"
        },
        "id": "6Lt6rfd9enxu",
        "outputId": "6476cef3-e132-4b1b-9438-397f369af093"
      },
      "execution_count": 2,
      "outputs": [
        {
          "output_type": "stream",
          "name": "stdout",
          "text": [
            "The file does not exist.\n"
          ]
        }
      ]
    },
    {
      "cell_type": "markdown",
      "source": [
        "14. Write a program that uses the logging module to log both informational and error messages.\n"
      ],
      "metadata": {
        "id": "WRrdGRH5e4FQ"
      }
    },
    {
      "cell_type": "code",
      "source": [
        "import logging\n",
        "\n",
        "logging.basicConfig(filename=\"app.log\", level=logging.INFO, format=\"%(asctime)s - %(levelname)s - %(message)s\")\n",
        "\n",
        "logging.info(\"This is an informational message.\")\n",
        "try:\n",
        "    result = 10 / 0\n",
        "except ZeroDivisionError:\n",
        "    logging.error(\"Division by zero error occurred.\")\n"
      ],
      "metadata": {
        "colab": {
          "base_uri": "https://localhost:8080/"
        },
        "id": "jvuikCTTe954",
        "outputId": "c4d87c53-1d67-436f-c3b5-37a05b6d8843"
      },
      "execution_count": 5,
      "outputs": [
        {
          "output_type": "stream",
          "name": "stderr",
          "text": [
            "ERROR:root:Division by zero error occurred.\n"
          ]
        }
      ]
    },
    {
      "cell_type": "markdown",
      "source": [
        "15. Write a Python program that prints the content of a file and handles the case when the file is empty."
      ],
      "metadata": {
        "id": "WNx72lHofCv-"
      }
    },
    {
      "cell_type": "code",
      "source": [
        "file_path = \"example.txt\"\n",
        "\n",
        "try:\n",
        "    with open(file_path, \"r\") as file:\n",
        "        content = file.read()\n",
        "        if not content:\n",
        "            print(\"The file is empty.\")\n",
        "        else:\n",
        "            print(content)\n",
        "except FileNotFoundError:\n",
        "    print(\"The file does not exist.\")\n"
      ],
      "metadata": {
        "colab": {
          "base_uri": "https://localhost:8080/"
        },
        "id": "PSI8e0KEfHSy",
        "outputId": "f769783b-f58c-46e9-91b5-e3d7a0643856"
      },
      "execution_count": 6,
      "outputs": [
        {
          "output_type": "stream",
          "name": "stdout",
          "text": [
            "The file does not exist.\n"
          ]
        }
      ]
    },
    {
      "cell_type": "markdown",
      "source": [
        "16. Demonstrate how to use memory profiling to check the memory usage of a small program."
      ],
      "metadata": {
        "id": "bmlUjgKrfQdF"
      }
    },
    {
      "cell_type": "code",
      "source": [
        "from memory_profiler import profile\n",
        "\n",
        "@profile\n",
        "def calculate_square():\n",
        "    numbers = [i**2 for i in range(1000)]  # Memory-intensive operation\n",
        "    return numbers\n",
        "\n",
        "if __name__ == \"__main__\":\n",
        "    calculate_square()\n"
      ],
      "metadata": {
        "id": "qdLcb38dfU5g"
      },
      "execution_count": null,
      "outputs": []
    },
    {
      "cell_type": "markdown",
      "source": [
        "17. Write a Python program to create and write a list of numbers to a file, one number per line."
      ],
      "metadata": {
        "id": "zwadlBMTffC5"
      }
    },
    {
      "cell_type": "code",
      "source": [
        "numbers = [1, 2, 3, 4, 5]\n",
        "\n",
        "with open(\"numbers.txt\", \"w\") as file:\n",
        "    for number in numbers:\n",
        "        file.write(f\"{number}\\n\")\n"
      ],
      "metadata": {
        "id": "1UZpZJwufk0S"
      },
      "execution_count": 8,
      "outputs": []
    },
    {
      "cell_type": "markdown",
      "source": [
        "18. How would you implement a basic logging setup that logs to a file with rotation after 1MB?"
      ],
      "metadata": {
        "id": "eveN4XL7fqdd"
      }
    },
    {
      "cell_type": "code",
      "source": [
        "import logging\n",
        "from logging.handlers import RotatingFileHandler\n",
        "\n",
        "handler = RotatingFileHandler(\"rotating_log.log\", maxBytes=1024 * 1024, backupCount=3)\n",
        "logging.basicConfig(handlers=[handler], level=logging.INFO, format=\"%(asctime)s - %(message)s\")\n",
        "\n",
        "for i in range(1000):\n",
        "    logging.info(f\"Log message {i}\")\n"
      ],
      "metadata": {
        "id": "ZPzedQCCfwOr"
      },
      "execution_count": null,
      "outputs": []
    },
    {
      "cell_type": "markdown",
      "source": [
        "19. Write a program that handles both IndexError and KeyError using a try-except block."
      ],
      "metadata": {
        "id": "4cBqCNMvf0Rc"
      }
    },
    {
      "cell_type": "code",
      "source": [
        "try:\n",
        "    numbers = [1, 2, 3]\n",
        "    value = numbers[5]  # Trigger IndexError\n",
        "    data = {\"key1\": \"value1\"}\n",
        "    value = data[\"non_existent_key\"]  # Trigger KeyError\n",
        "except IndexError:\n",
        "    print(\"Caught an IndexError.\")\n",
        "except KeyError:\n",
        "    print(\"Caught a KeyError.\")\n"
      ],
      "metadata": {
        "colab": {
          "base_uri": "https://localhost:8080/"
        },
        "id": "spE3V12Ff5x7",
        "outputId": "4d7bf733-57f1-4585-a0cc-ae0ac8abd5cc"
      },
      "execution_count": 9,
      "outputs": [
        {
          "output_type": "stream",
          "name": "stdout",
          "text": [
            "Caught an IndexError.\n"
          ]
        }
      ]
    },
    {
      "cell_type": "markdown",
      "source": [
        "20. How would you open a file and read its contents using a context manager in Python?"
      ],
      "metadata": {
        "id": "fR8HtbxBf_Qv"
      }
    },
    {
      "cell_type": "code",
      "source": [
        "with open(\"example.txt\", \"r\") as file:\n",
        "    content = file.read()\n",
        "    print(content)\n"
      ],
      "metadata": {
        "id": "M6iGpdGgg3A-"
      },
      "execution_count": null,
      "outputs": []
    },
    {
      "cell_type": "markdown",
      "source": [
        "21. Write a Python program that reads a file and prints the number of occurrences of a specific word."
      ],
      "metadata": {
        "id": "OlHG7PWdgKl4"
      }
    },
    {
      "cell_type": "code",
      "source": [
        "word_to_find = \"Python\"\n",
        "count = 0\n",
        "\n",
        "with open(\"example.txt\", \"r\") as file:\n",
        "    for line in file:\n",
        "        count += line.lower().count(word_to_find.lower())\n",
        "\n",
        "print(f\"The word '{word_to_find}' occurred {count} times.\")\n"
      ],
      "metadata": {
        "id": "bwf39bn2gPEs"
      },
      "execution_count": null,
      "outputs": []
    },
    {
      "cell_type": "markdown",
      "source": [
        "22. How can you check if a file is empty before attempting to read its contents?"
      ],
      "metadata": {
        "id": "m-1Tbx1fgUl-"
      }
    },
    {
      "cell_type": "code",
      "source": [
        "import os\n",
        "\n",
        "file_path = \"example.txt\"\n",
        "\n",
        "if os.path.exists(file_path) and os.path.getsize(file_path) == 0:\n",
        "    print(\"The file is empty.\")\n",
        "else:\n",
        "    with open(file_path, \"r\") as file:\n",
        "        print(file.read())\n"
      ],
      "metadata": {
        "id": "0hdifJqCgZwz"
      },
      "execution_count": null,
      "outputs": []
    },
    {
      "cell_type": "markdown",
      "source": [
        "23. Write a Python program that writes to a log file when an error occurs during file handling."
      ],
      "metadata": {
        "id": "siPhmjX_grtj"
      }
    },
    {
      "cell_type": "code",
      "source": [
        "import logging\n",
        "\n",
        "logging.basicConfig(filename=\"file_error.log\", level=logging.ERROR, format=\"%(asctime)s - %(message)s\")\n",
        "\n",
        "try:\n",
        "    with open(\"non_existent_file.txt\", \"r\") as file:\n",
        "        content = file.read()\n",
        "except FileNotFoundError as e:\n",
        "    logging.error(f\"File not found: {e}\")\n",
        "    print(\"An error occurred. Check the log file for details.\")\n"
      ],
      "metadata": {
        "id": "Ic2ncFypgtri"
      },
      "execution_count": null,
      "outputs": []
    }
  ]
}